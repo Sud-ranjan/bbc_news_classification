{
 "cells": [
  {
   "cell_type": "code",
   "execution_count": 197,
   "metadata": {},
   "outputs": [],
   "source": [
    "import pandas as pd"
   ]
  },
  {
   "cell_type": "code",
   "execution_count": 198,
   "metadata": {},
   "outputs": [
    {
     "data": {
      "text/html": [
       "<div>\n",
       "<style scoped>\n",
       "    .dataframe tbody tr th:only-of-type {\n",
       "        vertical-align: middle;\n",
       "    }\n",
       "\n",
       "    .dataframe tbody tr th {\n",
       "        vertical-align: top;\n",
       "    }\n",
       "\n",
       "    .dataframe thead th {\n",
       "        text-align: right;\n",
       "    }\n",
       "</style>\n",
       "<table border=\"1\" class=\"dataframe\">\n",
       "  <thead>\n",
       "    <tr style=\"text-align: right;\">\n",
       "      <th></th>\n",
       "      <th>ArticleId</th>\n",
       "      <th>Text</th>\n",
       "      <th>Category</th>\n",
       "    </tr>\n",
       "  </thead>\n",
       "  <tbody>\n",
       "    <tr>\n",
       "      <th>0</th>\n",
       "      <td>1833</td>\n",
       "      <td>worldcom ex-boss launches defence lawyers defe...</td>\n",
       "      <td>business</td>\n",
       "    </tr>\n",
       "    <tr>\n",
       "      <th>1</th>\n",
       "      <td>154</td>\n",
       "      <td>german business confidence slides german busin...</td>\n",
       "      <td>business</td>\n",
       "    </tr>\n",
       "    <tr>\n",
       "      <th>2</th>\n",
       "      <td>1101</td>\n",
       "      <td>bbc poll indicates economic gloom citizens in ...</td>\n",
       "      <td>business</td>\n",
       "    </tr>\n",
       "    <tr>\n",
       "      <th>3</th>\n",
       "      <td>1976</td>\n",
       "      <td>lifestyle  governs mobile choice  faster  bett...</td>\n",
       "      <td>tech</td>\n",
       "    </tr>\n",
       "    <tr>\n",
       "      <th>4</th>\n",
       "      <td>917</td>\n",
       "      <td>enron bosses in $168m payout eighteen former e...</td>\n",
       "      <td>business</td>\n",
       "    </tr>\n",
       "  </tbody>\n",
       "</table>\n",
       "</div>"
      ],
      "text/plain": [
       "   ArticleId                                               Text  Category\n",
       "0       1833  worldcom ex-boss launches defence lawyers defe...  business\n",
       "1        154  german business confidence slides german busin...  business\n",
       "2       1101  bbc poll indicates economic gloom citizens in ...  business\n",
       "3       1976  lifestyle  governs mobile choice  faster  bett...      tech\n",
       "4        917  enron bosses in $168m payout eighteen former e...  business"
      ]
     },
     "execution_count": 198,
     "metadata": {},
     "output_type": "execute_result"
    }
   ],
   "source": [
    "df = pd.read_csv('BBC News Train.csv')\n",
    "df.head()"
   ]
  },
  {
   "cell_type": "markdown",
   "metadata": {},
   "source": [
    "### Exploring The text data"
   ]
  },
  {
   "cell_type": "code",
   "execution_count": 199,
   "metadata": {},
   "outputs": [
    {
     "data": {
      "image/png": "[encoded data removed]",
      "text/plain": [
       "<Figure size 600x400 with 1 Axes>"
      ]
     },
     "metadata": {},
     "output_type": "display_data"
    }
   ],
   "source": [
    "categories = df.Category.value_counts().to_frame().reset_index().set_axis(['Category', 'count'], axis= 1)\n",
    "import seaborn as sns\n",
    "import matplotlib.pyplot as plt\n",
    "\n",
    "fig, ax = plt.subplots(figsize=(6, 4))\n",
    "sns.barplot(x=categories['Category'], y=categories['count'], ax=ax)\n",
    "ax.bar_label(ax.containers[0], label_type='edge')\n",
    "ax.margins(y=0.1)\n",
    "plt.show()"
   ]
  },
  {
   "cell_type": "code",
   "execution_count": 200,
   "metadata": {},
   "outputs": [],
   "source": [
    "# Remove duplicates\n",
    "with_duplicates = df.shape[0]\n",
    "df = df.drop_duplicates(subset='Text')\n",
    "without_duplicates = df.shape[0]"
   ]
  },
  {
   "cell_type": "code",
   "execution_count": 201,
   "metadata": {},
   "outputs": [
    {
     "name": "stdout",
     "output_type": "stream",
     "text": [
      "Removed 50 duplicate rows\n"
     ]
    }
   ],
   "source": [
    "print('Removed {} duplicate rows'.format(with_duplicates-without_duplicates))"
   ]
  },
  {
   "cell_type": "markdown",
   "metadata": {},
   "source": [
    "## Preprocessor\n",
    "\n",
    "- Clean the text documents\n",
    "- To convert the text to TFIDF matrix\n",
    "- This will then be exposed to classification techiques"
   ]
  },
  {
   "cell_type": "code",
   "execution_count": 202,
   "metadata": {},
   "outputs": [],
   "source": [
    "#importing nltk library components for preprocessing\n",
    "import re\n",
    "from nltk.corpus import stopwords\n",
    "from nltk.tokenize import word_tokenize\n",
    "from nltk.stem import PorterStemmer\n",
    "from nltk.stem import WordNetLemmatizer\n",
    "from sklearn.feature_extraction.text import TfidfVectorizer\n",
    "import string"
   ]
  },
  {
   "cell_type": "code",
   "execution_count": 203,
   "metadata": {},
   "outputs": [],
   "source": [
    "def text_cleaner(text):\n",
    "    # Removing unwanted text:\n",
    "    # Replace digits and single letters\n",
    "    pattern = r'\\b([a-zA-Z])\\b|\\d+|[.,!?()-\\:]'\n",
    "    text = re.sub(pattern, '', text)\n",
    "\n",
    "    # Tokenization\n",
    "    tokens = word_tokenize(text)\n",
    "    # Lowercasing\n",
    "    tokens = [word.lower() for word in tokens]\n",
    "    # Removing punctuation\n",
    "    tokens = [word for word in tokens if word not in string.punctuation]\n",
    "    # Removing stopwords\n",
    "    stop_words = set(stopwords.words('english'))\n",
    "    tokens = [word for word in tokens if word not in stop_words]\n",
    "    # Stemming\n",
    "    ps = PorterStemmer()\n",
    "    tokens_stemmed = [ps.stem(word) for word in tokens]\n",
    "    # Lemmatization\n",
    "    lemmatizer = WordNetLemmatizer()\n",
    "    tokens_lemmatized = [lemmatizer.lemmatize(word) for word in tokens]\n",
    "    # print(\"Tokens:\", tokens)\n",
    "    # print(\"Stemmed Tokens:\", tokens_stemmed)\n",
    "    # print(\"Lemmatized Tokens:\", tokens_lemmatized)\n",
    "    text = ' '.join(tokens_lemmatized)\n",
    "    return text\n",
    "\n",
    "# def text_cleaner(df_to_clean):\n",
    "#     for i,text in enumerate (df_to_clean['Text']):\n",
    "#         df_to_clean['Text'][i] = text_cleaning_string(text)\n",
    "#     print(df_to_clean)\n",
    "#     return df_to_clean\n"
   ]
  },
  {
   "cell_type": "code",
   "execution_count": 204,
   "metadata": {},
   "outputs": [],
   "source": [
    "# Clean the DF texts completely\n",
    "# To be applied to test data also\n",
    "\n",
    "# df['Text'] = text_cleaner(df)"
   ]
  },
  {
   "cell_type": "markdown",
   "metadata": {},
   "source": [
    "#### Build a class to preprocess data and compute vectorizeed matrix representing word counts with tf-idf\n",
    "- A class is created to save generate vectorized matrix for train, cross validation and test sets. This class also contains some helper functions for plotting, fitting, and predicting.\n",
    "- This is a class created by a fellow keggler, I will rewrite the code for preprocessing again, focusing on model building currently"
   ]
  },
  {
   "cell_type": "code",
   "execution_count": 205,
   "metadata": {},
   "outputs": [],
   "source": [
    "from sklearn import metrics\n",
    "class MyData(object):\n",
    "    \"\"\"\n",
    "    Represent text data as a sparse matrix with TfidfVectorizer\n",
    "    Note: This class does not follow sklearn syntax. \n",
    "    \"\"\"\n",
    "    def __init__(self,df,TfidfVec=None,clean_text=True,**TtdifVec_kwargs):\n",
    "        \"\"\"\n",
    "        Inputs:\n",
    "        -df: a DataFrame including column \"Text\"\n",
    "        -TfidfVec: previously fitted TfidfVectorizer object (pass None for a new fit)        \n",
    "        -clean_text: if True, 'Text' column will be cleaned.\n",
    "        -TtdifVec_kwargs: parameters to pass when the TfidfVectorizer is created\n",
    "        Fields:\n",
    "        -MyData.words: list of words used by TfidfVec\n",
    "        -MyData.tv: fitted TfidfVectorizer object\n",
    "        -MyData.WC2: Sparse matrix representation of the text\n",
    "        \"\"\"\n",
    "        self.df = df.copy()\n",
    "        if clean_text:\n",
    "            self.clean_text()\n",
    "        self.get_WC2(TfidfVec,**TtdifVec_kwargs)\n",
    "        \n",
    "    def clean_text(self):\n",
    "            self.df['Text'] = self.df['Text'].apply(lambda x: text_cleaner(x))\n",
    "    def get_WC2(self,TfidfVec=None,**TtdifVec_kwargs):\n",
    "        \"\"\"\n",
    "        Fit TfidfVectorizer to text and return a sparse matrix from tf-idf\n",
    "        \"\"\"\n",
    "        if TfidfVec is None:\n",
    "            # This is fit only done with the training data set.\n",
    "            if len(TtdifVec_kwargs)==0:\n",
    "                # Fit with default parameters\n",
    "                self.tv = TfidfVectorizer(min_df=0.004,max_df=0.417)  \n",
    "            else:\n",
    "                # Fit with user defined parameters\n",
    "                self.tv = TfidfVectorizer(**TtdifVec_kwargs)\n",
    "                \n",
    "            self.WC2 = self.tv.fit_transform(self.df['Text'])\n",
    "        else:\n",
    "            # The user passed the training TfidfVectorizer object\n",
    "            self.tv = TfidfVec  \n",
    "            self.WC2 = self.tv.transform(self.df['Text'])\n",
    "        self.words = self.tv.get_feature_names_out()                   \n",
    " \n",
    "    def get_WC2_as_df(self):\n",
    "        \"\"\"Converts the sparse matrix WC2 into a full DataFrame\"\"\"\n",
    "        return pd.DataFrame(self.WC2.A,columns=self.words)\n",
    "    def __repr__(self):\n",
    "        return \"MyData( nwords={} )\".format(self.WC2.shape)\n",
    "    def __str__(self):\n",
    "        return  self.__repr__()\n",
    "\n",
    "    @staticmethod\n",
    "    def plot_confusion_matrix(y_true,y_pred,title='Confusion Matrix'):        \n",
    "        labels = list(set(y_pred).union(set(y_true)))        \n",
    "        cm = metrics.confusion_matrix(y_true,y_pred,labels=labels)\n",
    "        fig, ax = plt.subplots(figsize=(7, 6))\n",
    "        sns.heatmap(cm, annot=True, fmt='g',ax=ax);\n",
    "        # labels, title and ticks\n",
    "        ax.set_xlabel('Predicted labels');ax.set_ylabel('True labels'); \n",
    "        ax.set_title(title); \n",
    "        ax.xaxis.set_ticklabels(labels); ax.ya"
   ]
  },
  {
   "cell_type": "code",
   "execution_count": 206,
   "metadata": {},
   "outputs": [
    {
     "name": "stdout",
     "output_type": "stream",
     "text": [
      "WC2 in training data set has size: (1152, 5376)\n",
      "WC2 in crossval_data data set has size: (288, 5376)\n",
      "WC2 in test_data data set has size: (735, 5376)\n"
     ]
    }
   ],
   "source": [
    "train_df = pd.read_csv('BBC News Train.csv').drop_duplicates(subset='Text')\n",
    "test_df = pd.read_csv('BBC News Test.csv') \n",
    "\n",
    "from sklearn.model_selection import train_test_split \n",
    "train_df, crossval_df = train_test_split(train_df,stratify=train_df[['Category']],test_size=0.2,random_state = 310)\n",
    "\n",
    "train_data = MyData(train_df)\n",
    "crossval_data = MyData(crossval_df,train_data.tv)\n",
    "test_data = MyData(test_df,train_data.tv)\n",
    "print('WC2 in training data set has size:',train_data.WC2.shape)\n",
    "print('WC2 in crossval_data data set has size:',crossval_data.WC2.shape)\n",
    "print('WC2 in test_data data set has size:',test_data.WC2.shape)"
   ]
  },
  {
   "cell_type": "markdown",
   "metadata": {},
   "source": [
    "### NMF interpretation\n",
    "\n",
    "WC(Word count matrix) = [n x m] n = no of docs, m = word count this matrix has normalized weight of words in the doc\n",
    "By factorization we get W x H = WC, with k topics\n",
    "\n",
    "W = [n x k]\n",
    "H = [k x m] \n",
    "\n",
    "- W represents weight of topic in the doc and\n",
    "- H represents weight of weight of word in the topic\n"
   ]
  },
  {
   "cell_type": "code",
   "execution_count": 207,
   "metadata": {},
   "outputs": [],
   "source": [
    "from sklearn.metrics import mean_squared_error\n",
    "from sklearn.decomposition import NMF\n",
    "import numpy as np\n",
    "\n",
    "n_topics = len(train_df.Category.value_counts())\n",
    "model = NMF(n_topics)\n",
    "W_train = model.fit_transform(train_data.WC2)\n",
    "H_train = model.components_\n",
    "\n",
    "train_df['predicted_id'] = [np.argmax(article) for article in W_train]"
   ]
  },
  {
   "cell_type": "code",
   "execution_count": 208,
   "metadata": {},
   "outputs": [],
   "source": [
    "# Creating id to category map using the train data, assuming most of our model will correlate with the correct labels\n",
    "\n",
    "cat_id_map = dict(train_df.pivot_table(index='Category', columns='predicted_id', aggfunc = 'size').fillna(0).apply(lambda x:np.argmax(np.array(x)), axis = 1).reset_index().rename(columns = {0:'cat_id'}).values)\n",
    "\n",
    "train_check = [np.argmax(article) for article in W_train]\n",
    "inverted_map = {v: k for k, v in cat_id_map.items()}\n"
   ]
  },
  {
   "cell_type": "code",
   "execution_count": 209,
   "metadata": {},
   "outputs": [],
   "source": [
    "train_df['predicted_cat'] = [inverted_map[i] for i in train_check]"
   ]
  },
  {
   "cell_type": "code",
   "execution_count": 210,
   "metadata": {},
   "outputs": [
    {
     "data": {
      "text/html": [
       "<div>\n",
       "<style scoped>\n",
       "    .dataframe tbody tr th:only-of-type {\n",
       "        vertical-align: middle;\n",
       "    }\n",
       "\n",
       "    .dataframe tbody tr th {\n",
       "        vertical-align: top;\n",
       "    }\n",
       "\n",
       "    .dataframe thead th {\n",
       "        text-align: right;\n",
       "    }\n",
       "</style>\n",
       "<table border=\"1\" class=\"dataframe\">\n",
       "  <thead>\n",
       "    <tr style=\"text-align: right;\">\n",
       "      <th></th>\n",
       "      <th>ArticleId</th>\n",
       "      <th>Text</th>\n",
       "      <th>Category</th>\n",
       "      <th>predicted_id</th>\n",
       "      <th>predicted_cat</th>\n",
       "    </tr>\n",
       "  </thead>\n",
       "  <tbody>\n",
       "    <tr>\n",
       "      <th>633</th>\n",
       "      <td>1805</td>\n",
       "      <td>dublin hi-tech labs to shut down dublin s hi-t...</td>\n",
       "      <td>tech</td>\n",
       "      <td>4</td>\n",
       "      <td>tech</td>\n",
       "    </tr>\n",
       "    <tr>\n",
       "      <th>457</th>\n",
       "      <td>1717</td>\n",
       "      <td>regiments  group in poll move a regiments  cam...</td>\n",
       "      <td>politics</td>\n",
       "      <td>0</td>\n",
       "      <td>politics</td>\n",
       "    </tr>\n",
       "    <tr>\n",
       "      <th>1233</th>\n",
       "      <td>555</td>\n",
       "      <td>bnp leader nick griffin arrested the leader of...</td>\n",
       "      <td>politics</td>\n",
       "      <td>0</td>\n",
       "      <td>politics</td>\n",
       "    </tr>\n",
       "    <tr>\n",
       "      <th>1372</th>\n",
       "      <td>557</td>\n",
       "      <td>barbarians 19-47 new zealand new zealand prove...</td>\n",
       "      <td>sport</td>\n",
       "      <td>1</td>\n",
       "      <td>sport</td>\n",
       "    </tr>\n",
       "    <tr>\n",
       "      <th>489</th>\n",
       "      <td>563</td>\n",
       "      <td>cable offers video-on-demand cable firms ntl a...</td>\n",
       "      <td>tech</td>\n",
       "      <td>4</td>\n",
       "      <td>tech</td>\n",
       "    </tr>\n",
       "    <tr>\n",
       "      <th>...</th>\n",
       "      <td>...</td>\n",
       "      <td>...</td>\n",
       "      <td>...</td>\n",
       "      <td>...</td>\n",
       "      <td>...</td>\n",
       "    </tr>\n",
       "    <tr>\n",
       "      <th>625</th>\n",
       "      <td>814</td>\n",
       "      <td>us budget deficit to reach $368bn the us budge...</td>\n",
       "      <td>business</td>\n",
       "      <td>2</td>\n",
       "      <td>business</td>\n",
       "    </tr>\n",
       "    <tr>\n",
       "      <th>1093</th>\n",
       "      <td>70</td>\n",
       "      <td>indonesia  declines debt freeze  indonesia no ...</td>\n",
       "      <td>business</td>\n",
       "      <td>2</td>\n",
       "      <td>business</td>\n",
       "    </tr>\n",
       "    <tr>\n",
       "      <th>1068</th>\n",
       "      <td>825</td>\n",
       "      <td>prime minister s questions so who  if anyone  ...</td>\n",
       "      <td>politics</td>\n",
       "      <td>0</td>\n",
       "      <td>politics</td>\n",
       "    </tr>\n",
       "    <tr>\n",
       "      <th>470</th>\n",
       "      <td>1686</td>\n",
       "      <td>de niro completes box office coup robert de ni...</td>\n",
       "      <td>entertainment</td>\n",
       "      <td>3</td>\n",
       "      <td>entertainment</td>\n",
       "    </tr>\n",
       "    <tr>\n",
       "      <th>1190</th>\n",
       "      <td>1186</td>\n",
       "      <td>rich pickings for hi-tech thieves viruses  tro...</td>\n",
       "      <td>tech</td>\n",
       "      <td>4</td>\n",
       "      <td>tech</td>\n",
       "    </tr>\n",
       "  </tbody>\n",
       "</table>\n",
       "<p>1152 rows × 5 columns</p>\n",
       "</div>"
      ],
      "text/plain": [
       "      ArticleId                                               Text  \\\n",
       "633        1805  dublin hi-tech labs to shut down dublin s hi-t...   \n",
       "457        1717  regiments  group in poll move a regiments  cam...   \n",
       "1233        555  bnp leader nick griffin arrested the leader of...   \n",
       "1372        557  barbarians 19-47 new zealand new zealand prove...   \n",
       "489         563  cable offers video-on-demand cable firms ntl a...   \n",
       "...         ...                                                ...   \n",
       "625         814  us budget deficit to reach $368bn the us budge...   \n",
       "1093         70  indonesia  declines debt freeze  indonesia no ...   \n",
       "1068        825  prime minister s questions so who  if anyone  ...   \n",
       "470        1686  de niro completes box office coup robert de ni...   \n",
       "1190       1186  rich pickings for hi-tech thieves viruses  tro...   \n",
       "\n",
       "           Category  predicted_id  predicted_cat  \n",
       "633            tech             4           tech  \n",
       "457        politics             0       politics  \n",
       "1233       politics             0       politics  \n",
       "1372          sport             1          sport  \n",
       "489            tech             4           tech  \n",
       "...             ...           ...            ...  \n",
       "625        business             2       business  \n",
       "1093       business             2       business  \n",
       "1068       politics             0       politics  \n",
       "470   entertainment             3  entertainment  \n",
       "1190           tech             4           tech  \n",
       "\n",
       "[1152 rows x 5 columns]"
      ]
     },
     "execution_count": 210,
     "metadata": {},
     "output_type": "execute_result"
    }
   ],
   "source": [
    "train_df"
   ]
  },
  {
   "cell_type": "code",
   "execution_count": 211,
   "metadata": {},
   "outputs": [
    {
     "data": {
      "image/png": "[encoded data removed]",
      "text/plain": [
       "<Figure size 800x600 with 2 Axes>"
      ]
     },
     "metadata": {},
     "output_type": "display_data"
    },
    {
     "name": "stdout",
     "output_type": "stream",
     "text": [
      "Accuracy = 92.01%\n"
     ]
    }
   ],
   "source": [
    "from sklearn.metrics import confusion_matrix, accuracy_score\n",
    "\n",
    "y_true = np.array(train_df['Category'])\n",
    "y_pred = np.array(train_df['predicted_cat'])\n",
    "\n",
    "cm = confusion_matrix(y_true,y_pred)\n",
    "\n",
    "plt.figure(figsize=(8, 6))\n",
    "sns.heatmap(cm, annot=True, fmt='d', cmap='Blues')\n",
    "plt.xlabel('Predicted labels')\n",
    "plt.ylabel('True labels')\n",
    "plt.title('Confusion Matrix for Train Data')\n",
    "plt.show()\n",
    "\n",
    "print('Accuracy = {}%'.format(round(accuracy_score(y_true,y_pred)*100,2)))"
   ]
  },
  {
   "cell_type": "code",
   "execution_count": 212,
   "metadata": {},
   "outputs": [],
   "source": [
    "W_test = model.transform(test_data.WC2)\n",
    "\n",
    "out_check = [np.argmax(article) for article in W_test]\n",
    "inverted_map = {v: k for k, v in cat_id_map.items()}\n",
    "\n",
    "test_df['Category'] = [inverted_map[i] for i in out_check]\n"
   ]
  },
  {
   "cell_type": "code",
   "execution_count": 213,
   "metadata": {},
   "outputs": [
    {
     "data": {
      "text/html": [
       "<div>\n",
       "<style scoped>\n",
       "    .dataframe tbody tr th:only-of-type {\n",
       "        vertical-align: middle;\n",
       "    }\n",
       "\n",
       "    .dataframe tbody tr th {\n",
       "        vertical-align: top;\n",
       "    }\n",
       "\n",
       "    .dataframe thead th {\n",
       "        text-align: right;\n",
       "    }\n",
       "</style>\n",
       "<table border=\"1\" class=\"dataframe\">\n",
       "  <thead>\n",
       "    <tr style=\"text-align: right;\">\n",
       "      <th></th>\n",
       "      <th>ArticleId</th>\n",
       "      <th>Text</th>\n",
       "      <th>Category</th>\n",
       "    </tr>\n",
       "  </thead>\n",
       "  <tbody>\n",
       "    <tr>\n",
       "      <th>0</th>\n",
       "      <td>1018</td>\n",
       "      <td>qpr keeper day heads for preston queens park r...</td>\n",
       "      <td>sport</td>\n",
       "    </tr>\n",
       "    <tr>\n",
       "      <th>1</th>\n",
       "      <td>1319</td>\n",
       "      <td>software watching while you work software that...</td>\n",
       "      <td>tech</td>\n",
       "    </tr>\n",
       "    <tr>\n",
       "      <th>2</th>\n",
       "      <td>1138</td>\n",
       "      <td>d arcy injury adds to ireland woe gordon d arc...</td>\n",
       "      <td>sport</td>\n",
       "    </tr>\n",
       "    <tr>\n",
       "      <th>3</th>\n",
       "      <td>459</td>\n",
       "      <td>india s reliance family feud heats up the ongo...</td>\n",
       "      <td>business</td>\n",
       "    </tr>\n",
       "    <tr>\n",
       "      <th>4</th>\n",
       "      <td>1020</td>\n",
       "      <td>boro suffer morrison injury blow middlesbrough...</td>\n",
       "      <td>sport</td>\n",
       "    </tr>\n",
       "    <tr>\n",
       "      <th>...</th>\n",
       "      <td>...</td>\n",
       "      <td>...</td>\n",
       "      <td>...</td>\n",
       "    </tr>\n",
       "    <tr>\n",
       "      <th>730</th>\n",
       "      <td>1923</td>\n",
       "      <td>eu to probe alitalia  state aid  the european ...</td>\n",
       "      <td>business</td>\n",
       "    </tr>\n",
       "    <tr>\n",
       "      <th>731</th>\n",
       "      <td>373</td>\n",
       "      <td>u2 to play at grammy awards show irish rock ba...</td>\n",
       "      <td>entertainment</td>\n",
       "    </tr>\n",
       "    <tr>\n",
       "      <th>732</th>\n",
       "      <td>1704</td>\n",
       "      <td>sport betting rules in spotlight a group of mp...</td>\n",
       "      <td>tech</td>\n",
       "    </tr>\n",
       "    <tr>\n",
       "      <th>733</th>\n",
       "      <td>206</td>\n",
       "      <td>alfa romeos  to get gm engines  fiat is to sto...</td>\n",
       "      <td>business</td>\n",
       "    </tr>\n",
       "    <tr>\n",
       "      <th>734</th>\n",
       "      <td>471</td>\n",
       "      <td>citizenship event for 18s touted citizenship c...</td>\n",
       "      <td>politics</td>\n",
       "    </tr>\n",
       "  </tbody>\n",
       "</table>\n",
       "<p>735 rows × 3 columns</p>\n",
       "</div>"
      ],
      "text/plain": [
       "     ArticleId                                               Text  \\\n",
       "0         1018  qpr keeper day heads for preston queens park r...   \n",
       "1         1319  software watching while you work software that...   \n",
       "2         1138  d arcy injury adds to ireland woe gordon d arc...   \n",
       "3          459  india s reliance family feud heats up the ongo...   \n",
       "4         1020  boro suffer morrison injury blow middlesbrough...   \n",
       "..         ...                                                ...   \n",
       "730       1923  eu to probe alitalia  state aid  the european ...   \n",
       "731        373  u2 to play at grammy awards show irish rock ba...   \n",
       "732       1704  sport betting rules in spotlight a group of mp...   \n",
       "733        206  alfa romeos  to get gm engines  fiat is to sto...   \n",
       "734        471  citizenship event for 18s touted citizenship c...   \n",
       "\n",
       "          Category  \n",
       "0            sport  \n",
       "1             tech  \n",
       "2            sport  \n",
       "3         business  \n",
       "4            sport  \n",
       "..             ...  \n",
       "730       business  \n",
       "731  entertainment  \n",
       "732           tech  \n",
       "733       business  \n",
       "734       politics  \n",
       "\n",
       "[735 rows x 3 columns]"
      ]
     },
     "execution_count": 213,
     "metadata": {},
     "output_type": "execute_result"
    }
   ],
   "source": [
    "test_df"
   ]
  },
  {
   "cell_type": "code",
   "execution_count": 214,
   "metadata": {},
   "outputs": [
    {
     "data": {
      "image/png": "[encoded data removed]",
      "text/plain": [
       "<Figure size 600x400 with 1 Axes>"
      ]
     },
     "metadata": {},
     "output_type": "display_data"
    }
   ],
   "source": [
    "submission_df = test_df[['ArticleId','Category']]\n",
    "\n",
    "categories_plot = submission_df.Category.value_counts().to_frame().reset_index().set_axis(['Category', 'count'], axis= 1)\n",
    "\n",
    "fig, ax = plt.subplots(figsize=(6, 4))\n",
    "sns.barplot(x=categories_plot['Category'], y=categories_plot['count'], ax=ax)\n",
    "ax.bar_label(ax.containers[0], label_type='edge')\n",
    "ax.margins(y=0.1)\n",
    "plt.show()"
   ]
  },
  {
   "cell_type": "markdown",
   "metadata": {},
   "source": [
    "## Kaggle Score: 91.972%\n",
    "- This is a good score considering we used a completely unsupervised learning approach to the model\n",
    "- Supervised methods could be tried after all improvements are done to the model\n",
    "### Next Steps\n",
    "- Improve preprocessing to n-grams to improve the model\n"
   ]
  },
  {
   "cell_type": "code",
   "execution_count": null,
   "metadata": {},
   "outputs": [],
   "source": []
  },
  {
   "cell_type": "code",
   "execution_count": null,
   "metadata": {},
   "outputs": [],
   "source": []
  }
 ],
 "metadata": {
  "kernelspec": {
   "display_name": "envNew",
   "language": "python",
   "name": "python3"
  },
  "language_info": {
   "codemirror_mode": {
    "name": "ipython",
    "version": 3
   },
   "file_extension": ".py",
   "mimetype": "text/x-python",
   "name": "python",
   "nbconvert_exporter": "python",
   "pygments_lexer": "ipython3",
   "version": "3.8.19"
  }
 },
 "nbformat": 4,
 "nbformat_minor": 2
}
